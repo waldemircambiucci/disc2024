{
 "cells": [
  {
   "cell_type": "markdown",
   "id": "da4dad92",
   "metadata": {},
   "source": [
    "# PHD - DISC24 - Exp 1 - KL for full circuits - v1 - 20240406"
   ]
  },
  {
   "cell_type": "markdown",
   "id": "88d86df5",
   "metadata": {},
   "source": [
    "//======================================================================================================\n",
    "// \n",
    "\n",
    "EPUSP - Quantum circuits dimensions - v.03.2024 \n",
    "Author: Waldemir Cambiucci \n",
    "Data: April 6th, 2024\n",
    "\n",
    "File: PHD - DISC24 - Exp 1 - KL for full circuits - v1 - 20240406\n",
    "\n",
    "Description: \n",
    "\n",
    "https://www.calculatorsoup.com/calculators/discretemathematics/combinations.php\n",
    "https://pnnl.github.io/hypernetx-widget/\n",
    "\n",
    "//\n",
    "//======================================================================================================"
   ]
  },
  {
   "cell_type": "code",
   "execution_count": 1,
   "id": "b2f18b95",
   "metadata": {},
   "outputs": [],
   "source": [
    "import re\n",
    "import networkx as nx\n",
    "from qiskit import QuantumCircuit\n",
    "from networkx.algorithms import community"
   ]
  },
  {
   "cell_type": "code",
   "execution_count": 2,
   "id": "49e49be9",
   "metadata": {},
   "outputs": [],
   "source": [
    "def extract_qubits(input_str):\n",
    "    # Regular expression to match qubit numbers\n",
    "    pattern = r'q\\[(\\d+)\\]'\n",
    "    # Find all matches of the pattern in the input string\n",
    "    matches = re.findall(pattern, input_str)\n",
    "    # Extract qubit numbers from matches\n",
    "    qubit_numbers = [int(match) for match in matches]\n",
    "    # Return the qubit numbers as separate variables\n",
    "    if len(qubit_numbers) >= 2:\n",
    "        return tuple(qubit_numbers)\n",
    "    elif len(qubit_numbers) == 1:\n",
    "        return qubit_numbers[0], None\n",
    "    else:\n",
    "        return None, None"
   ]
  },
  {
   "cell_type": "code",
   "execution_count": 3,
   "id": "b7abdeac",
   "metadata": {},
   "outputs": [],
   "source": [
    "def get_num_qubits_from_qasm(qasm_str):  \n",
    "    for line in qasm_str.splitlines():\n",
    "        if line.startswith('qreg'):        \n",
    "            pos = line.find('[') + 1\n",
    "            end_pos = line.find(']')\n",
    "            qubits_str = line[pos:end_pos]    \n",
    "    return int(qubits_str)"
   ]
  },
  {
   "cell_type": "code",
   "execution_count": 4,
   "id": "852d7543",
   "metadata": {},
   "outputs": [],
   "source": [
    "def convert_qasm_in_hypergraph_kl(qasm_str):     \n",
    "    g = nx.Graph()       \n",
    "    nqubits = get_num_qubits_from_qasm(qasm_str)\n",
    "    for line in qasm_str.splitlines():                \n",
    "        if line.startswith('cx') or line.startswith('cz'):            \n",
    "            qubit1, qubit2 = extract_qubits(line)            \n",
    "            g.add_edge(qubit1,qubit2)            \n",
    "    return g           "
   ]
  },
  {
   "cell_type": "code",
   "execution_count": 5,
   "id": "ea5cd759",
   "metadata": {},
   "outputs": [],
   "source": [
    "def count_ebits(g , b):      \n",
    "    nebits = 0\n",
    "    for edge in g.edges:\n",
    "        n1 = edge[0]\n",
    "        n2 = edge[1]        \n",
    "        if (n1 in b[0]) and (n2 in b[1]):   \n",
    "            nebits = nebits + 1\n",
    "        elif (n1 in b[1]) and (n2 in b[0]):   \n",
    "            nebits = nebits + 1\n",
    "    return nebits"
   ]
  },
  {
   "cell_type": "code",
   "execution_count": 6,
   "id": "cf98c0ef",
   "metadata": {},
   "outputs": [],
   "source": [
    "def get_coupling_base_from_circuit(circuit):\n",
    "    n = circuit.num_qubits\n",
    "    Cb = (n * (n-1))/2  \n",
    "    return Cb"
   ]
  },
  {
   "cell_type": "code",
   "execution_count": 7,
   "id": "d235c428",
   "metadata": {},
   "outputs": [],
   "source": [
    "def get_coupling_ratio_from_circuit(circuit):\n",
    "    num_bin_gates = count_binary_operations(circuit)\n",
    "    Cb = get_coupling_base_from_circuit(circuit)\n",
    "    Cr = num_bin_gates / Cb\n",
    "    return Cr"
   ]
  },
  {
   "cell_type": "code",
   "execution_count": 8,
   "id": "82a9b9c4",
   "metadata": {},
   "outputs": [],
   "source": [
    "def count_binary_operations(quantum_circuit):\n",
    "    # Count the operations using count_ops() function\n",
    "    ops_dict = quantum_circuit.count_ops()    \n",
    "    # Sum the counts of binary operations\n",
    "    total_binary_ops = sum(count for op, count in ops_dict.items() if op in ['cx', 'cz', 'swap', 'cp'])    \n",
    "    return total_binary_ops"
   ]
  },
  {
   "cell_type": "code",
   "execution_count": 17,
   "id": "457cb94f",
   "metadata": {},
   "outputs": [],
   "source": [
    "def create_full_circuit(n):\n",
    "    bc = QuantumCircuit(n)    \n",
    "    total_unique_gates = (n*(n-1))/2     \n",
    "    for q0 in range(0,n):\n",
    "        bc.barrier()\n",
    "        for q1 in range(q0+1,n):\n",
    "            bc.cz(q0,q1)    \n",
    "    return bc"
   ]
  },
  {
   "cell_type": "code",
   "execution_count": 73,
   "id": "77b2a782",
   "metadata": {},
   "outputs": [],
   "source": [
    "def split_circuit_and_count_binary_gates(circuit):\n",
    "    # Get the number of qubits in the circuit\n",
    "    num_qubits = circuit.num_qubits\n",
    "    \n",
    "    # Calculate the midpoint to split the circuit\n",
    "    midpoint = num_qubits // 2\n",
    "    \n",
    "    # Divide the qubits into two partitions\n",
    "    partition_1 = list(range(midpoint))    \n",
    "    partition_2 = list(range(midpoint, num_qubits))\n",
    "    \n",
    "    # Initialize count for binary gates involving qubits from both partitions\n",
    "    count_binary_gates = 0\n",
    "    \n",
    "    # Iterate through the gates in the circuit\n",
    "    for instr, qargs, cargs in circuit.data:\n",
    "        # Check if the gate is a binary gate and involves qubits from both partitions\n",
    "        if len(qargs) == 2 and (qargs[0].index in partition_1 and qargs[1].index in partition_2) or \\\n",
    "           (qargs[0].index in partition_2 and qargs[1].index in partition_1):\n",
    "            count_binary_gates += 1\n",
    "    \n",
    "    return count_binary_gates"
   ]
  },
  {
   "cell_type": "markdown",
   "id": "d135bd63",
   "metadata": {},
   "source": [
    "# Testing functions with big circuits"
   ]
  },
  {
   "cell_type": "code",
   "execution_count": 27,
   "id": "2828be8e",
   "metadata": {},
   "outputs": [],
   "source": [
    "test_circuit = create_full_circuit(4)"
   ]
  },
  {
   "cell_type": "code",
   "execution_count": 28,
   "id": "37fd9279",
   "metadata": {},
   "outputs": [
    {
     "data": {
      "text/html": [
       "<pre style=\"word-wrap: normal;white-space: pre;background: #fff0;line-height: 1.1;font-family: &quot;Courier New&quot;,Courier,monospace\">      ░           ░        ░     ░ \n",
       "q_0: ─░──■──■──■──░────────░─────░─\n",
       "      ░  │  │  │  ░        ░     ░ \n",
       "q_1: ─░──■──┼──┼──░──■──■──░─────░─\n",
       "      ░     │  │  ░  │  │  ░     ░ \n",
       "q_2: ─░─────■──┼──░──■──┼──░──■──░─\n",
       "      ░        │  ░     │  ░  │  ░ \n",
       "q_3: ─░────────■──░─────■──░──■──░─\n",
       "      ░           ░        ░     ░ </pre>"
      ],
      "text/plain": [
       "      ░           ░        ░     ░ \n",
       "q_0: ─░──■──■──■──░────────░─────░─\n",
       "      ░  │  │  │  ░        ░     ░ \n",
       "q_1: ─░──■──┼──┼──░──■──■──░─────░─\n",
       "      ░     │  │  ░  │  │  ░     ░ \n",
       "q_2: ─░─────■──┼──░──■──┼──░──■──░─\n",
       "      ░        │  ░     │  ░  │  ░ \n",
       "q_3: ─░────────■──░─────■──░──■──░─\n",
       "      ░           ░        ░     ░ "
      ]
     },
     "execution_count": 28,
     "metadata": {},
     "output_type": "execute_result"
    }
   ],
   "source": [
    "test_circuit.draw()"
   ]
  },
  {
   "cell_type": "code",
   "execution_count": 29,
   "id": "a6230c2c",
   "metadata": {},
   "outputs": [],
   "source": [
    "qasm_str = test_circuit.qasm()\n",
    "qasm_hypergraph = convert_qasm_in_hypergraph_kl(qasm_str)"
   ]
  },
  {
   "cell_type": "code",
   "execution_count": 30,
   "id": "8a8c568b",
   "metadata": {},
   "outputs": [
    {
     "data": {
      "text/plain": [
       "NodeView((0, 1, 2, 3))"
      ]
     },
     "execution_count": 30,
     "metadata": {},
     "output_type": "execute_result"
    }
   ],
   "source": [
    "qasm_hypergraph.nodes"
   ]
  },
  {
   "cell_type": "code",
   "execution_count": 31,
   "id": "5a6667d5",
   "metadata": {},
   "outputs": [
    {
     "name": "stdout",
     "output_type": "stream",
     "text": [
      "[(0, 1), (0, 2), (0, 3), (1, 2), (1, 3), (2, 3)]\n"
     ]
    }
   ],
   "source": [
    "print(qasm_hypergraph.edges)"
   ]
  },
  {
   "cell_type": "code",
   "execution_count": 32,
   "id": "f42dedbd",
   "metadata": {},
   "outputs": [
    {
     "name": "stdout",
     "output_type": "stream",
     "text": [
      "({2, 3}, {0, 1})\n"
     ]
    }
   ],
   "source": [
    "blocks = community.kernighan_lin.kernighan_lin_bisection(qasm_hypergraph, partition=None, max_iter=50)\n",
    "print(blocks)"
   ]
  },
  {
   "cell_type": "code",
   "execution_count": 16,
   "id": "6c38259a",
   "metadata": {},
   "outputs": [
    {
     "name": "stdout",
     "output_type": "stream",
     "text": [
      "total ebits with KL bipartition:  4\n"
     ]
    }
   ],
   "source": [
    "num_ebits = count_ebits(qasm_hypergraph,blocks)\n",
    "print('total ebits with KL bipartition: ',num_ebits)"
   ]
  },
  {
   "cell_type": "code",
   "execution_count": 36,
   "id": "db3b32cb",
   "metadata": {},
   "outputs": [
    {
     "data": {
      "text/plain": [
       "0"
      ]
     },
     "execution_count": 36,
     "metadata": {},
     "output_type": "execute_result"
    }
   ],
   "source": [
    "get_num_ebits_mid_cut(test_circuit)"
   ]
  },
  {
   "cell_type": "markdown",
   "id": "476c1d7b",
   "metadata": {},
   "source": [
    "# DISC24 - Exp 1 - KL for full circuits"
   ]
  },
  {
   "cell_type": "code",
   "execution_count": 82,
   "id": "8b92292f",
   "metadata": {},
   "outputs": [],
   "source": [
    "from datetime import datetime\n",
    "def generate_timestamp():\n",
    "    \"\"\"\n",
    "    Generates a timestamp string representing the current date and time.    \n",
    "    Returns:\n",
    "        str: Timestamp string in the format 'YYYY-MM-DD_HH-MM-SS'.\n",
    "    \"\"\"\n",
    "    now = datetime.now()\n",
    "    timestamp = now.strftime('%Y-%m-%d_%H-%M-%S')\n",
    "    return timestamp"
   ]
  },
  {
   "cell_type": "code",
   "execution_count": 87,
   "id": "caffa868",
   "metadata": {},
   "outputs": [],
   "source": [
    "def disc_exp1_fullcircuits(min_qubits, max_qubits):\n",
    "    \n",
    "    timestamp = generate_timestamp()\n",
    "    print(\"Timestamp:\", timestamp)\n",
    "\n",
    "    DISC_Experiment_folder = 'disc_exp1_full_circuits'\n",
    "\n",
    "    print('Running experiment with FULL CIRCUITS - calculating w, s, Cb, min.cut, and segments using KL partitioning.')\n",
    "    print('----------------------------------------------------------------------------------------------------------')\n",
    "    print('...')\n",
    "\n",
    "    # Write the contents of the list to a file named 'coupling.log'\n",
    "    file1 = open(DISC_Experiment_folder + \"\\\\\" + 'disc_exp1_' + timestamp + '.log', 'w')\n",
    "    file1.writelines('width (n)' + '\\t' + 'depth (d)' + '\\t' + 'size (s)' + '\\t' + 'coupling (Cb)' + '\\t' + 'mid.cut' + '\\t' + 'min.cut KL'+ '\\t' + 'bipartite segments' + '\\n')\n",
    "\n",
    "    #=====================================================================\n",
    "    #\n",
    "    for n in range(min_qubits,max_qubits):\n",
    "\n",
    "        print('Full circuit for ' + str(n) + ' qubits.')\n",
    "\n",
    "        circuit = create_full_circuit(n)\n",
    "\n",
    "        d = circuit.depth()\n",
    "        s = circuit.size()       \n",
    "        mid_cuts = split_circuit_and_count_binary_gates(circuit)\n",
    "        Cb = get_coupling_base_from_circuit(circuit)    \n",
    "        Rc = get_coupling_ratio_from_circuit(circuit)        \n",
    "        qasm_str = circuit.qasm()\n",
    "        qasm_hypergraph = convert_qasm_in_hypergraph_kl(qasm_str)\n",
    "\n",
    "        blocks = community.kernighan_lin.kernighan_lin_bisection(qasm_hypergraph, partition=None, max_iter=200)\n",
    "        num_ebits = count_ebits(qasm_hypergraph,blocks)\n",
    "\n",
    "        file1.writelines( str(n) + '\\t' + str(d) + '\\t' + str(s) + '\\t' + str(Cb) + '\\t' + str(mid_cuts) + '\\t' + str(num_ebits) + '\\t' + str(blocks) + '\\n' )\n",
    "\n",
    "        #\n",
    "        #=====================================================================\n",
    "\n",
    "    print('...')\n",
    "    print('----------------------------------------------------------------------------------------------------------')\n",
    "    print('File closed.')\n",
    "\n",
    "    file1.close()\n"
   ]
  },
  {
   "cell_type": "code",
   "execution_count": 88,
   "id": "8a73d581",
   "metadata": {},
   "outputs": [
    {
     "name": "stdout",
     "output_type": "stream",
     "text": [
      "Timestamp: 2024-04-06_11-01-52\n",
      "Running experiment with FULL CIRCUITS - calculating w, s, Cb, min.cut, and segments using KL partitioning.\n",
      "----------------------------------------------------------------------------------------------------------\n",
      "...\n",
      "Full circuit for 4 qubits.\n",
      "Full circuit for 5 qubits.\n",
      "Full circuit for 6 qubits.\n",
      "Full circuit for 7 qubits.\n",
      "Full circuit for 8 qubits.\n",
      "Full circuit for 9 qubits.\n",
      "Full circuit for 10 qubits.\n",
      "Full circuit for 11 qubits.\n",
      "Full circuit for 12 qubits.\n",
      "Full circuit for 13 qubits.\n",
      "Full circuit for 14 qubits.\n",
      "Full circuit for 15 qubits.\n",
      "Full circuit for 16 qubits.\n",
      "Full circuit for 17 qubits.\n",
      "Full circuit for 18 qubits.\n",
      "Full circuit for 19 qubits.\n",
      "Full circuit for 20 qubits.\n",
      "Full circuit for 21 qubits.\n",
      "Full circuit for 22 qubits.\n",
      "Full circuit for 23 qubits.\n",
      "Full circuit for 24 qubits.\n",
      "Full circuit for 25 qubits.\n",
      "Full circuit for 26 qubits.\n",
      "Full circuit for 27 qubits.\n"
     ]
    },
    {
     "name": "stderr",
     "output_type": "stream",
     "text": [
      "C:\\Users\\wcamb\\AppData\\Local\\Temp\\ipykernel_8880\\1070940826.py:19: DeprecationWarning: The property ``qiskit.circuit.bit.Bit.index`` is deprecated as of qiskit-terra 0.17. It will be removed no earlier than 3 months after the release date. Instead, use :meth:`~qiskit.circuit.quantumcircuit.QuantumCircuit.find_bit` to find all the containing registers within a circuit and the index of the bit within the circuit.\n",
      "  (qargs[0].index in partition_2 and qargs[1].index in partition_1):\n",
      "C:\\Users\\wcamb\\AppData\\Local\\Temp\\ipykernel_8880\\1070940826.py:18: DeprecationWarning: The property ``qiskit.circuit.bit.Bit.index`` is deprecated as of qiskit-terra 0.17. It will be removed no earlier than 3 months after the release date. Instead, use :meth:`~qiskit.circuit.quantumcircuit.QuantumCircuit.find_bit` to find all the containing registers within a circuit and the index of the bit within the circuit.\n",
      "  if len(qargs) == 2 and (qargs[0].index in partition_1 and qargs[1].index in partition_2) or \\\n"
     ]
    },
    {
     "name": "stdout",
     "output_type": "stream",
     "text": [
      "Full circuit for 28 qubits.\n",
      "Full circuit for 29 qubits.\n",
      "Full circuit for 30 qubits.\n",
      "Full circuit for 31 qubits.\n",
      "Full circuit for 32 qubits.\n",
      "Full circuit for 33 qubits.\n",
      "Full circuit for 34 qubits.\n",
      "Full circuit for 35 qubits.\n",
      "Full circuit for 36 qubits.\n",
      "Full circuit for 37 qubits.\n",
      "Full circuit for 38 qubits.\n",
      "Full circuit for 39 qubits.\n",
      "Full circuit for 40 qubits.\n",
      "Full circuit for 41 qubits.\n",
      "Full circuit for 42 qubits.\n",
      "Full circuit for 43 qubits.\n",
      "Full circuit for 44 qubits.\n",
      "Full circuit for 45 qubits.\n",
      "Full circuit for 46 qubits.\n",
      "Full circuit for 47 qubits.\n",
      "Full circuit for 48 qubits.\n",
      "Full circuit for 49 qubits.\n",
      "Full circuit for 50 qubits.\n",
      "Full circuit for 51 qubits.\n",
      "Full circuit for 52 qubits.\n",
      "Full circuit for 53 qubits.\n",
      "Full circuit for 54 qubits.\n",
      "Full circuit for 55 qubits.\n",
      "Full circuit for 56 qubits.\n",
      "Full circuit for 57 qubits.\n",
      "Full circuit for 58 qubits.\n",
      "Full circuit for 59 qubits.\n",
      "Full circuit for 60 qubits.\n",
      "Full circuit for 61 qubits.\n",
      "Full circuit for 62 qubits.\n",
      "Full circuit for 63 qubits.\n",
      "Full circuit for 64 qubits.\n",
      "Full circuit for 65 qubits.\n",
      "Full circuit for 66 qubits.\n",
      "Full circuit for 67 qubits.\n",
      "Full circuit for 68 qubits.\n",
      "Full circuit for 69 qubits.\n",
      "Full circuit for 70 qubits.\n",
      "Full circuit for 71 qubits.\n",
      "Full circuit for 72 qubits.\n",
      "Full circuit for 73 qubits.\n",
      "Full circuit for 74 qubits.\n",
      "Full circuit for 75 qubits.\n",
      "Full circuit for 76 qubits.\n",
      "Full circuit for 77 qubits.\n",
      "Full circuit for 78 qubits.\n",
      "Full circuit for 79 qubits.\n",
      "Full circuit for 80 qubits.\n",
      "Full circuit for 81 qubits.\n",
      "Full circuit for 82 qubits.\n",
      "Full circuit for 83 qubits.\n",
      "Full circuit for 84 qubits.\n",
      "Full circuit for 85 qubits.\n",
      "Full circuit for 86 qubits.\n",
      "Full circuit for 87 qubits.\n",
      "Full circuit for 88 qubits.\n",
      "Full circuit for 89 qubits.\n",
      "Full circuit for 90 qubits.\n",
      "Full circuit for 91 qubits.\n",
      "Full circuit for 92 qubits.\n",
      "Full circuit for 93 qubits.\n",
      "Full circuit for 94 qubits.\n",
      "Full circuit for 95 qubits.\n",
      "Full circuit for 96 qubits.\n",
      "Full circuit for 97 qubits.\n",
      "Full circuit for 98 qubits.\n",
      "Full circuit for 99 qubits.\n",
      "Full circuit for 100 qubits.\n",
      "Full circuit for 101 qubits.\n",
      "Full circuit for 102 qubits.\n",
      "Full circuit for 103 qubits.\n",
      "Full circuit for 104 qubits.\n",
      "Full circuit for 105 qubits.\n",
      "Full circuit for 106 qubits.\n",
      "Full circuit for 107 qubits.\n",
      "Full circuit for 108 qubits.\n",
      "Full circuit for 109 qubits.\n",
      "Full circuit for 110 qubits.\n",
      "Full circuit for 111 qubits.\n",
      "Full circuit for 112 qubits.\n",
      "Full circuit for 113 qubits.\n",
      "Full circuit for 114 qubits.\n",
      "Full circuit for 115 qubits.\n",
      "Full circuit for 116 qubits.\n",
      "Full circuit for 117 qubits.\n",
      "Full circuit for 118 qubits.\n",
      "Full circuit for 119 qubits.\n",
      "Full circuit for 120 qubits.\n",
      "...\n",
      "----------------------------------------------------------------------------------------------------------\n",
      "File closed.\n"
     ]
    }
   ],
   "source": [
    "disc_exp1_fullcircuits(4,121)"
   ]
  }
 ],
 "metadata": {
  "kernelspec": {
   "display_name": "Python 3 (ipykernel)",
   "language": "python",
   "name": "python3"
  },
  "language_info": {
   "codemirror_mode": {
    "name": "ipython",
    "version": 3
   },
   "file_extension": ".py",
   "mimetype": "text/x-python",
   "name": "python",
   "nbconvert_exporter": "python",
   "pygments_lexer": "ipython3",
   "version": "3.11.4"
  }
 },
 "nbformat": 4,
 "nbformat_minor": 5
}
